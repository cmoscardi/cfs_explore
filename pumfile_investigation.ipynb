{
 "cells": [
  {
   "cell_type": "code",
   "execution_count": 2,
   "metadata": {
    "collapsed": true
   },
   "outputs": [],
   "source": [
    "import pandas as pd\n",
    "import matplotlib\n",
    "%matplotlib inline"
   ]
  },
  {
   "cell_type": "code",
   "execution_count": 3,
   "metadata": {
    "collapsed": true
   },
   "outputs": [],
   "source": [
    "df = pd.read_csv(\"cfs_2012_pumf_csv.txt\")\n"
   ]
  },
  {
   "cell_type": "markdown",
   "metadata": {},
   "source": [
    "### histogram of (log) value-to-weight ratios. \n",
    "\n",
    "#### It's $log_{10}$ so $.01 / lb is roughly the median value."
   ]
  },
  {
   "cell_type": "code",
   "execution_count": 7,
   "metadata": {},
   "outputs": [
    {
     "data": {
      "text/plain": [
       "<matplotlib.axes._subplots.AxesSubplot at 0x2a4402fc9b0>"
      ]
     },
     "execution_count": 7,
     "metadata": {},
     "output_type": "execute_result"
    },
    {
     "data": {
      "image/png": "[encoded data removed]",
      "text/plain": [
       "<matplotlib.figure.Figure at 0x2a4403a5ba8>"
      ]
     },
     "metadata": {},
     "output_type": "display_data"
    }
   ],
   "source": [
    "df['vtw'] = df['SHIPMT_VALUE'] / df['SHIPMT_WGHT']\n",
    "\n",
    "filt = df[df.NAICS == 212]\n",
    "import numpy as np\n",
    "np.log10(filt.SHIPMT_VALUE / filt.SHIPMT_WGHT).hist()"
   ]
  },
  {
   "cell_type": "markdown",
   "metadata": {},
   "source": [
    "### Summary statistics for (non-logged) value-to-weight ratios..."
   ]
  },
  {
   "cell_type": "code",
   "execution_count": 8,
   "metadata": {},
   "outputs": [
    {
     "data": {
      "text/plain": [
       "count    140933.000000\n",
       "mean          4.680617\n",
       "std         292.262527\n",
       "min           0.000005\n",
       "25%           0.003728\n",
       "50%           0.005521\n",
       "75%           0.012500\n",
       "max       26402.557971\n",
       "dtype: float64"
      ]
     },
     "execution_count": 8,
     "metadata": {},
     "output_type": "execute_result"
    }
   ],
   "source": [
    "(filt.SHIPMT_VALUE / filt.SHIPMT_WGHT).describe()"
   ]
  },
  {
   "cell_type": "markdown",
   "metadata": {},
   "source": [
    "### the top 5 lowest value-to-weight ratios and their indices in the PUMfile"
   ]
  },
  {
   "cell_type": "code",
   "execution_count": 9,
   "metadata": {},
   "outputs": [
    {
     "data": {
      "text/plain": [
       "1924424    0.000005\n",
       "3667405    0.000027\n",
       "2864077    0.000029\n",
       "676482     0.000031\n",
       "1876819    0.000149\n",
       "dtype: float64"
      ]
     },
     "execution_count": 9,
     "metadata": {},
     "output_type": "execute_result"
    }
   ],
   "source": [
    "(filt.SHIPMT_VALUE / filt.SHIPMT_WGHT).sort_values().head()"
   ]
  },
  {
   "cell_type": "markdown",
   "metadata": {},
   "source": [
    "### The single lowets value-to-weight ratio"
   ]
  },
  {
   "cell_type": "code",
   "execution_count": 19,
   "metadata": {},
   "outputs": [
    {
     "data": {
      "text/plain": [
       "SHIPMT_ID                 1924425\n",
       "ORIG_STATE                     48\n",
       "ORIG_MA                       238\n",
       "ORIG_CFS_AREA              48-238\n",
       "DEST_STATE                     48\n",
       "DEST_MA                       238\n",
       "DEST_CFS_AREA              48-238\n",
       "NAICS                         212\n",
       "QUARTER                         2\n",
       "SCTG                           12\n",
       "MODE                            4\n",
       "SHIPMT_VALUE                    7\n",
       "SHIPMT_WGHT               1464011\n",
       "SHIPMT_DIST_GC                 18\n",
       "SHIPMT_DIST_ROUTED             23\n",
       "TEMP_CNTL_YN                    N\n",
       "EXPORT_YN                       N\n",
       "EXPORT_CNTRY                    N\n",
       "HAZMAT                          N\n",
       "WGT_FACTOR                    539\n",
       "vtw                   4.78138e-06\n",
       "Name: 1924424, dtype: object"
      ]
     },
     "execution_count": 19,
     "metadata": {},
     "output_type": "execute_result"
    }
   ],
   "source": [
    "filt.loc[1924424]"
   ]
  },
  {
   "cell_type": "markdown",
   "metadata": {},
   "source": [
    "### Median value to weight ratio by SCTG, with NAICS 212"
   ]
  },
  {
   "cell_type": "code",
   "execution_count": 12,
   "metadata": {},
   "outputs": [
    {
     "data": {
      "text/plain": [
       "SCTG\n",
       "00        0.032860\n",
       "10        0.069454\n",
       "10-14     0.008196\n",
       "11        0.004902\n",
       "12        0.004757\n",
       "13        0.015357\n",
       "14        0.316694\n",
       "15        0.023524\n",
       "15-19     0.032000\n",
       "19        0.026314\n",
       "20        0.076503\n",
       "20-24     0.099141\n",
       "22        0.264980\n",
       "23        3.720000\n",
       "31        0.031250\n",
       "31-34     0.115681\n",
       "32        3.347575\n",
       "33        7.960526\n",
       "34       14.005059\n",
       "35       35.759425\n",
       "36       11.308271\n",
       "39-99     5.418353\n",
       "40        0.005932\n",
       "41        0.000512\n",
       "43        1.606132\n",
       "Name: vtw, dtype: float64"
      ]
     },
     "execution_count": 12,
     "metadata": {},
     "output_type": "execute_result"
    }
   ],
   "source": [
    "filt.SCTG.value_counts()\n",
    "filt.groupby(\"SCTG\").vtw.median()"
   ]
  },
  {
   "cell_type": "markdown",
   "metadata": {},
   "source": [
    "### (logged) value-to-weight within just SCTG 11, 12, 13 in NAICS 212"
   ]
  },
  {
   "cell_type": "code",
   "execution_count": 15,
   "metadata": {},
   "outputs": [
    {
     "data": {
      "text/plain": [
       "<matplotlib.axes._subplots.AxesSubplot at 0x2a40014e5c0>"
      ]
     },
     "execution_count": 15,
     "metadata": {},
     "output_type": "execute_result"
    },
    {
     "data": {
      "image/png": "[encoded data removed]",
      "text/plain": [
       "<matplotlib.figure.Figure at 0x2a4000e2358>"
      ]
     },
     "metadata": {},
     "output_type": "display_data"
    }
   ],
   "source": [
    "np.log(filt[filt.SCTG.isin({\"11\", \"12\", \"13\"})].vtw).hist()"
   ]
  },
  {
   "cell_type": "markdown",
   "metadata": {},
   "source": [
    "### Descriptives for value-to-weight within SCTG 11,12, 13 in NAICS 212"
   ]
  },
  {
   "cell_type": "code",
   "execution_count": 17,
   "metadata": {},
   "outputs": [
    {
     "data": {
      "text/plain": [
       "count    116380.000000\n",
       "mean          0.048116\n",
       "std           0.871427\n",
       "min           0.000005\n",
       "25%           0.003455\n",
       "50%           0.004970\n",
       "75%           0.007525\n",
       "max         148.000000\n",
       "Name: vtw, dtype: float64"
      ]
     },
     "execution_count": 17,
     "metadata": {},
     "output_type": "execute_result"
    }
   ],
   "source": [
    "filt[filt.SCTG.isin({\"11\", \"12\", \"13\"})].vtw.describe()"
   ]
  },
  {
   "cell_type": "markdown",
   "metadata": {},
   "source": [
    "### Min value-to-weight across the PUMfile"
   ]
  },
  {
   "cell_type": "code",
   "execution_count": 16,
   "metadata": {},
   "outputs": [
    {
     "data": {
      "text/plain": [
       "SCTG\n",
       "00       0.004171\n",
       "01       0.333341\n",
       "01-05    0.001500\n",
       "02       0.005001\n",
       "03       0.000600\n",
       "04       0.000983\n",
       "05       0.029903\n",
       "06       0.003114\n",
       "06-09    0.064790\n",
       "07       0.002963\n",
       "08       0.002942\n",
       "09       0.146429\n",
       "10       0.001654\n",
       "10-14    0.000027\n",
       "11       0.000149\n",
       "12       0.000005\n",
       "13       0.000249\n",
       "14       0.010015\n",
       "15       0.002197\n",
       "15-19    0.002499\n",
       "17       0.013267\n",
       "18       0.024849\n",
       "19       0.000490\n",
       "20       0.000098\n",
       "20-24    0.006100\n",
       "21       0.002714\n",
       "22       0.000103\n",
       "23       0.001301\n",
       "24       0.000027\n",
       "25       0.000991\n",
       "25-30    0.001443\n",
       "26       0.000745\n",
       "27       0.001723\n",
       "28       0.002334\n",
       "29       0.000645\n",
       "30       0.002401\n",
       "31       0.000496\n",
       "31-34    0.002996\n",
       "32       0.000988\n",
       "33       0.002807\n",
       "34       0.004713\n",
       "35       0.001124\n",
       "35-38    0.020873\n",
       "36       0.003576\n",
       "37       0.007168\n",
       "38       0.009022\n",
       "39       0.034483\n",
       "39-99    0.002501\n",
       "40       0.003325\n",
       "41       0.000053\n",
       "43       0.003296\n",
       "99       0.098970\n",
       "Name: vtw, dtype: float64"
      ]
     },
     "execution_count": 16,
     "metadata": {},
     "output_type": "execute_result"
    }
   ],
   "source": [
    "df.groupby(\"SCTG\").vtw.min()"
   ]
  },
  {
   "cell_type": "code",
   "execution_count": null,
   "metadata": {
    "collapsed": true
   },
   "outputs": [],
   "source": []
  }
 ],
 "metadata": {
  "kernelspec": {
   "display_name": "Python 3",
   "language": "python",
   "name": "python3"
  },
  "language_info": {
   "codemirror_mode": {
    "name": "ipython",
    "version": 3
   },
   "file_extension": ".py",
   "mimetype": "text/x-python",
   "name": "python",
   "nbconvert_exporter": "python",
   "pygments_lexer": "ipython3",
   "version": "3.6.3"
  }
 },
 "nbformat": 4,
 "nbformat_minor": 2
}
